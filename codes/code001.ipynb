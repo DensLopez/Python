{
 "cells": [
  {
   "cell_type": "markdown",
   "id": "59a3a416",
   "metadata": {},
   "source": [
    "# **Fundamentos**"
   ]
  },
  {
   "cell_type": "markdown",
   "id": "d714d8db",
   "metadata": {},
   "source": [
    "#### **Historia**\n",
    "Python fue creado en 1991 por Guido Van Rossum siguiendo basada en una filosofía de simplicidad, además es de **Alto Nivel**; que significa que es cercano al **lenguaje humano** para ser precisos el **Inglés**.\n",
    "\n",
    "También es de **Escritura Dinámica**; que se refiere a que no necesitamos especificar el tipo de dato con el que trabajaremos. Sin embargo los datos pueden cambiar de tipo a través de nuestro código. Python es un lenguaje ordenado que se ejecuta de:\n",
    "- Arriba hacia abajo\n",
    "- Izquierda a derecha\n",
    "\n",
    "Es ampliamente usado en el mundo debido a su **Sintaxis sencilla**.\n",
    "\n",
    "Los archivos que trabajan con código de Python se nombran con la extensión **.py**"
   ]
  },
  {
   "cell_type": "markdown",
   "id": "f5e36cb5",
   "metadata": {},
   "source": [
    "## **`print()`**"
   ]
  },
  {
   "cell_type": "markdown",
   "id": "73cd7042",
   "metadata": {},
   "source": [
    "Es una función que en Inglés significa **Imprimir** y nos arroja el valor de lo que ingresamos dentro de la función. Podemos colocar, texto, variables, números. Y nos arrojará su valor de manera gráfica en la consola."
   ]
  },
  {
   "cell_type": "code",
   "execution_count": 1,
   "id": "1363df90",
   "metadata": {},
   "outputs": [
    {
     "name": "stdout",
     "output_type": "stream",
     "text": [
      "Hola\n"
     ]
    }
   ],
   "source": [
    "print(\"Hola\")"
   ]
  },
  {
   "cell_type": "markdown",
   "id": "59a44cfb",
   "metadata": {},
   "source": [
    "La función incorporada print puede parecer básica al principio, pero ten en cuenta que será una herramienta que usarás de múltiples maneras a lo largo de tu código. Desde el icónico “Hola mundo” hasta mensajes de depuración y presentación de resultados, print es la puerta de entrada a la comunicación de tus programas con el mundo exterior.\n",
    "\n",
    "Aprenderemos a aprovechar al máximo la función incorporada print en Python. **Desde formatos avanzados hasta el manejo de caracteres especiales y secuencias de escape, descubrirás cómo print puede ser una herramienta poderosa y versátil en tu caja de herramientas de programación**."
   ]
  },
  {
   "cell_type": "markdown",
   "id": "2e393aac",
   "metadata": {},
   "source": [
    "### **1. Uso básico de print**\n",
    "El uso más sencillo de print consiste en pasar el texto que deseas mostrar entre comillas. Este código imprimirá “Nunca pares de aprender” en la consola, siendo una excelente forma de probar si tu entorno de Python está configurado correctamente.\n",
    "```py\n",
    "print(\"Nunca pares de aprender\")\n",
    "```\n",
    "Resultado:\n",
    "Nunca pares de aprender\n"
   ]
  },
  {
   "cell_type": "markdown",
   "id": "2c042916",
   "metadata": {},
   "source": [
    "### **2. Uso de la coma en print**\n",
    "La coma dentro de la función print se usa para separar varios argumentos. **Al hacerlo, Python añade automáticamente un espacio entre los argumentos**. \n",
    "\n",
    "**Esto es diferente a concatenar cadenas con el operador +, que no añade espacios adicionales.**\n",
    "\n",
    "##### **Coma**\n",
    "```py\n",
    "print(\"Nunca\", \"pares\", \"de\", \"aprender\")\n",
    "```\n",
    "Resultado: Nunca pares de aprender\n",
    "##### **Concatenación (+)**\n",
    "Por otro lado, al concatenar cadenas con el operador +, los elementos se unen sin ningún espacio adicional, a menos que lo añadas explícitamente.\n",
    "```py\n",
    "print(\"Nunca\" + \"pares\" + \"de\" + \"aprender\")\n",
    "```\n",
    "Resultado: Nuncaparesdeaprender\n",
    "\n",
    "\n",
    "Para añadir un espacio explícitamente cuando concatenas cadenas, debes incluirlo dentro de las comillas.\n",
    "```py\n",
    "print(\"Nunca\" + \" \" + \"pares\" + \" \" + \"de\" + \" \" + \"aprender\")\n",
    "```\n",
    "Resultado: Nunca pares de aprender"
   ]
  },
  {
   "cell_type": "markdown",
   "id": "40c54217",
   "metadata": {},
   "source": [
    "### **3. Uso de sep**\n",
    "El parámetro ``sep`` permite especificar cómo separar los elementos al imprimir. En este ejemplo, los elementos ``“Nunca”``, ``“pares”``, ``“de”`` y ``“aprender”`` se imprimirán con una coma y un espacio entre ellos, resultando en ``“Nunca, pares, de, aprender”``. Puedes cambiar ``sep`` por cualquier cadena de caracteres que desees usar como separador.\n",
    "```py\n",
    "print(\"Nunca\", \"pares\", \"de\", \"aprender\", sep=\", \")\n",
    "```\n",
    "Resultado:\n",
    "Nunca, pares, de, aprender"
   ]
  },
  {
   "cell_type": "markdown",
   "id": "11351a22",
   "metadata": {},
   "source": [
    "### **4. Uso de end**\n",
    "El parámetro ``end`` cambia lo que se imprime al final de la llamada a print. En lugar de imprimir cada mensaje en una nueva línea, ``end=\"\"`` asegura que ``“Nunca”`` y ``“pares”`` se impriman en la misma línea, resultando en ``“Nunca pares”``. \n",
    "\n",
    "Por defecto, ``end`` es un salto de línea ``(\"\\n\")``, lo que hace que cada llamada a ``print()`` comience en una nueva línea.\n",
    "```py\n",
    "print(\"Nunca\", end=\" \")\n",
    "print(\"pares de aprender\")\n",
    "```\n",
    "Resultado: Nunca pares de aprender\n"
   ]
  },
  {
   "cell_type": "markdown",
   "id": "24372286",
   "metadata": {},
   "source": [
    "### **5. Impresión de variables**\n",
    "Puedes usar print para mostrar el valor de las variables. En este ejemplo, imprimirá ``“Frase: Nunca pares de aprender” y “Autor: Platzi”.`` Esto es útil para depurar y ver los valores de las variables en diferentes puntos de tu programa.\n",
    "```\n",
    "frase = \"Nunca pares de aprender\"\n",
    "author = \"Platzi\"\n",
    "print(\"Frase:\", frase, \"Autor:\", author)\n",
    "```\n",
    "Resultado: Frase: Nunca pares de aprender Autor: Platzi\n"
   ]
  },
  {
   "cell_type": "markdown",
   "id": "d0b6ddb9",
   "metadata": {},
   "source": [
    "### **6. Uso de formato con f-strings**\n",
    "Las ``f-strings`` permiten insertar expresiones dentro de cadenas de texto. Al anteponer una ``f`` a la cadena de texto, puedes incluir variables directamente dentro de las llaves ``{}``. En este ejemplo, ``frase`` y ``author`` se insertarán en la cadena, resultando en ``“Frase: Nunca pares de aprender, Autor: Platzi”``. Esto hace que el código sea más legible y fácil de escribir.\n",
    "```py\n",
    "frase = \"Nunca pares de aprender\"\n",
    "author = \"Platzi\"\n",
    "print(f\"Frase: {frase}, Autor: {author}\")\n",
    "```\n",
    "Resultado:\n",
    "Frase: Nunca pares de aprender, Autor: Platzi"
   ]
  },
  {
   "cell_type": "markdown",
   "id": "7bb19a6b",
   "metadata": {},
   "source": [
    "### **7. Uso de formato con format**\n",
    "El método ``format`` es otra forma de insertar valores en cadenas de texto. Usando ``{}`` como marcadores de posición, puedes pasar los valores que quieres insertar como argumentos de ``format``. En este ejemplo, se imprimirá ``“Frase: Nunca pares de aprender, Autor: Platzi”``. Es una forma flexible y poderosa de formatear cadenas, aunque las ``f-strings`` son más concisas.\n",
    "```py\n",
    "frase = \"Nunca pares de aprender\"\n",
    "author = \"Platzi\"\n",
    "print(\"Frase: {}, Autor: {}\".format(frase, author))\n",
    "```\n",
    "Resultado:\n",
    "Frase: Nunca pares de aprender, Autor: Platzi"
   ]
  },
  {
   "cell_type": "markdown",
   "id": "f394124a",
   "metadata": {},
   "source": [
    "### **8. Impresión con formato específico**\n",
    "Puedes controlar el formato de los números al imprimir. En este ejemplo, ``:.2f`` indica que el número debe mostrarse con dos decimales. Así, imprimirá ``“Valor: 3.14”``, redondeando el número a dos decimales. Esto es especialmente útil cuando trabajas con datos numéricos y necesitas un formato específico.\n",
    "```py\n",
    "valor = 3.14159\n",
    "print(\"Valor: {:.2f}\".format(valor))\n",
    "```\n",
    "Resultado:\n",
    "Valor: 3.14"
   ]
  },
  {
   "cell_type": "markdown",
   "id": "7b35939c",
   "metadata": {},
   "source": [
    "### **9. Saltos de línea y caracteres especiales**\n",
    "Los saltos de línea en Python se indican con la secuencia de escape ``\\n``. Por ejemplo, para imprimir ``“Hola\\nmundo”``, que aparecerá en dos líneas:\n",
    "```py\n",
    "print(\"Hola\\nmundo\")\n",
    "```\n",
    "Resultado:     \n",
    "Hola     \n",
    "mundo    \n",
    "\n",
    "Para imprimir una cadena que **contenga comillas simples o dobles dentro de ellas**, debes usar secuencias de escape para evitar confusiones con la sintaxis de Python. Por ejemplo, para imprimir la frase ``“Hola soy ‘Carli’”:``\n",
    "```py\n",
    "print('Hola soy \\'Carli\\'')\n",
    "```\n",
    "Resultado:\n",
    "Hola soy 'Carli'\n",
    "\n",
    "Si necesitas imprimir una ruta de archivo en Windows, que incluya barras invertidas, también necesitarás usar secuencias de escape para evitar que Python interprete las barras invertidas como parte de secuencias de escape. Por ejemplo:\n",
    "```py\n",
    "print(\"La ruta de archivo es: C:\\\\Users\\\\Usuario\\\\Desktop\\\\archivo.txt\")\n",
    "```\n",
    "Resultado:\n",
    "La ruta de archivo es: C:\\Users\\Usuario\\Desktop\\archivo.txt\n",
    "\n",
    "En Python, estas secuencias de escape te permiten manejar caracteres especiales y estructurar la salida de texto según sea necesario, asegurando que la salida se formatee correctamente en la consola o en cualquier otro medio donde se imprima.\n",
    "\n",
    "Con estos ejemplos y explicaciones adicionales, tendrás una comprensión más completa sobre cómo manejar saltos de línea y caracteres especiales en Python al usar la función print.\n"
   ]
  },
  {
   "cell_type": "markdown",
   "id": "04078d29",
   "metadata": {},
   "source": [
    "### **Semántica**"
   ]
  },
  {
   "cell_type": "markdown",
   "id": "5b1c4c52",
   "metadata": {},
   "source": [
    "Se refiere al sentido que nosotros le damos al código. Es decir buscar consistencia y coherencia dentro de nuestro código."
   ]
  },
  {
   "cell_type": "markdown",
   "id": "decb7322",
   "metadata": {},
   "source": [
    "### **Sintaxis**"
   ]
  },
  {
   "cell_type": "markdown",
   "id": "234e5ddd",
   "metadata": {},
   "source": [
    "Se refiere a la manera en que nosotros vamos escribiendo y siguiendo buenas practicas de generación de código. Es decir debemos seguir ciertas reglas del propio lenguaje para que se ejecute adecuadamente."
   ]
  },
  {
   "cell_type": "markdown",
   "id": "69bbf835",
   "metadata": {},
   "source": [
    "### **Errores**"
   ]
  },
  {
   "cell_type": "markdown",
   "id": "c2589449",
   "metadata": {},
   "source": [
    "- **Syntactic Error (Error de Sintaxis)**: Cuando Python no entiendo nuestro código, por ejemplo; escribir `frint()` en lugar de `print()`.\n",
    "  \n",
    "- **Semantic Error (Error de semántica)**: Cuando Python ejecuta tu código pero la lógica no es correcta. Como decir `1 + 1 = 3`. Aunque nuestro código corra, la lógica no tiene sentido.\n",
    "\n",
    "- **Indentation Error (Error de Indentación)**: La indentación, en el contexto de la escritura y la programación, se refiere a la práctica de mover un bloque de texto hacia la derecha, generalmente con espacios o tabuladores, para separarlo del texto adyacente. Es decir ponemos un espacio donde no es necesario.\n",
    "\n",
    "- **Index Error (Error de indice)**: Se debe a que hacemos referencia a un dato que no existe o que sobrepasamos el número de indice permitido."
   ]
  },
  {
   "cell_type": "markdown",
   "id": "e4a0d5d9",
   "metadata": {},
   "source": [
    "Así que los errores se pueden clasificar si son correspondientes a Semántica o Sintaxis. Un punto bueno en Python es que cuando cometemos un error, el mensaje que nos despliega nos ayuda sobre de que tipo es."
   ]
  },
  {
   "cell_type": "markdown",
   "id": "d47ef5f3",
   "metadata": {},
   "source": [
    "### **Variables**"
   ]
  },
  {
   "cell_type": "markdown",
   "id": "f07f4444",
   "metadata": {},
   "source": [
    "Pensemos en las variables como espacios donde se guarda información. A esta variables le podemos dar ciertas características:\n",
    "- Nombre\n",
    "- Tipo \n",
    "- Valor\n",
    "\n",
    "Cuando se crean variables tenemos que tener en cuenta **Sintaxis**.\n",
    "- Colocamos el nombre de la variable seguido de el signo de asignación '=' y después el valor que queremos guardar.\n",
    "\n",
    "**Ejemplos:**\n",
    "```python\n",
    "Nombre = \"Camila\"\n",
    "Edad = 29\n",
    "Mensaje = \"Hola\"\n",
    "```\n",
    "\n",
    "**Errores de semántica en variables**\n",
    "```python\n",
    "Edad = \"Marcela\"\n",
    "Precio = \"treinta\"\n",
    "Nombre = 30\n",
    "```\n",
    "Aunque el código no tenga errores de sintaxis, no está bien implementado en cuanto a la lógica de programación y por ello tenemos errores de Semántica."
   ]
  },
  {
   "cell_type": "markdown",
   "id": "8befe1c7",
   "metadata": {},
   "source": [
    "#### **Buenas prácticas en nombrar variables**"
   ]
  },
  {
   "cell_type": "markdown",
   "id": "f4ec53d4",
   "metadata": {},
   "source": [
    "- No se permite empezar el nombre de una variable con un número.\n",
    "\n",
    "- No usar palabras reservadas `class, init, print` del lenguaje propio de Python.\n",
    "\n",
    "- Se puede usar ``'_'`` al inicio o en posiciones posteriores `_variable_= 20`\n"
   ]
  },
  {
   "cell_type": "markdown",
   "id": "cc26b0a6",
   "metadata": {},
   "source": [
    "#### **Tipos de variable**\n",
    "- **String [str]**: Es usado para representar texto, podemos guardar desde un carácter hasta una secuencia de texto.\n",
    "  \n",
    "  - *Formas de representación en Python:*\n",
    "    - **Comillas dobles ``\"\"``**\n",
    "    - **Comilla simple `''`**\n",
    "    - **Comillas triples (tres comillas simples) `'''men'''`**: Sensible a saltos de linea. Es decir se puede usar salto de linea sin que genere un error.\n",
    "  \n",
    "  - *Indexación*: Para acceder a cierto elemento dentro de una variable. Los valores comienza de 0 en adelante. \n",
    "    - Si quiero empezar del final hacia atrás, tengo que escoger indices negativos. Comenzando con -1.\n",
    "  \n",
    "  - *Concatenación (+)*: Cuando se **suman** o se **unen** 2 o más **strings**.\n",
    "  \n",
    "  -  *Repetición ( * )*: Cuando queremos replicar $n$ veces un **string**\n",
    "\n",
    "- **Float [float]**: Es un tipo de dato que representa número con punto decimal. Normalmente este tipo de dato puede tener una notación científica en Python.\n",
    "\n",
    "  ```py\n",
    "  a = 13.2e2\n",
    "  b = 13.2e-2\n",
    "  ```\n",
    "\n",
    "- **Integer [int]**: Es un tipo de dato que representa solo a los números enteros, es decir los que se pueden contar de una unidad en unidad.\n",
    "\n",
    "- **Boolean [bool]**: Son aquellos tipos de datos que solamente pueden representar 2 estados. Verdadero o Falso. \n",
    "  ```py\n",
    "  Verdadero = True\n",
    "  Falso = False\n",
    "  ```       \n",
    "  Algo importante a tener en cuenta es que este tipo de valores es sensible al uso de mayúsculas, por lo que siempre tenemos que usarlas al inicio para representar un tipo de dato `booleano`\n"
   ]
  },
  {
   "cell_type": "markdown",
   "id": "3ee47b1f",
   "metadata": {},
   "source": [
    "> Para consultar el tipo de dato de una variable usamos la función `type()`       \n",
    "    \n",
    "> Para consultar la longitud de una variable usamos la función `len()`     "
   ]
  },
  {
   "cell_type": "markdown",
   "id": "184cd059",
   "metadata": {},
   "source": [
    "#### **Buenas practicas**\n",
    "- Tenemos que preservar un formato: Por ejemplo cuando elegimos una representación para **strings** en las variables. Lo tenemos que mantener a lo largo del código. ``[Comillas simples, dobles o triples]``"
   ]
  },
  {
   "cell_type": "markdown",
   "id": "89eda68f",
   "metadata": {},
   "source": [
    "### **Métodos**\n",
    "Son funciones que pertenecen a una clase o son propias de un tipo de dato. Además tienen una sintaxis diferente a las funciones tradicionales de Python. Por lo que no se llamarán *funciones* sino *métodos*\n",
    "\n",
    "**Ejemplo**\n",
    "```py\n",
    "mensaje = 'HOLA mundo'\n",
    "mensaje.lower()\n",
    "```\n",
    "\n",
    "Aquí `lower()` es el método "
   ]
  },
  {
   "cell_type": "markdown",
   "id": "eb687702",
   "metadata": {},
   "source": [
    "## **Clases**\n",
    "Es el tipo de dato en los que se clasifica la información en Python. "
   ]
  },
  {
   "cell_type": "markdown",
   "id": "c0b7f16f",
   "metadata": {},
   "source": [
    "### **Comentarios**"
   ]
  },
  {
   "cell_type": "markdown",
   "id": "958b044e",
   "metadata": {},
   "source": [
    "Podemos comentar código en Python, es decir que ignore cierta parte del código. Esta sección no es parte del código y suele servir más como apoyo para el programador."
   ]
  },
  {
   "cell_type": "markdown",
   "id": "4d4ff157",
   "metadata": {},
   "source": [
    "##### **Tipos de comentario**\n",
    "- Usa el símbolo ``#`` para comentar.\n",
    "\n",
    "- También puedes usar strings multilínea ``(\"\"\" ... \"\"\" o ''' ... ''')`` como comentarios, aunque no es la forma recomendada, pero a veces se usa para documentación o pruebas rápidas.\n",
    "\n",
    "- Si quieres documentar funciones, clases o módulos, sí debes usar ``\"\"\"`` al inicio\n",
    "    >Esto no es un comentario regular, sino una cadena de documentación que herramientas como help() pueden leer.\n",
    "\n",
    "```py\n",
    "# Este es un comentario de una sola línea\n",
    "print(\"Hola\")  # También puedes comentar al final de una línea de código\n",
    "\n",
    "# Este es un comentario\n",
    "# que ocupa varias líneas\n",
    "# y explica algo en detalle\n",
    "\n",
    "\"\"\"\n",
    "Esto parece un comentario multilínea.\n",
    "Python lo interpreta como un string, pero si no se asigna ni se usa, no afecta.\n",
    "Se usa a veces como bloque de comentario.\n",
    "\"\"\"\n",
    "\n",
    "def suma(a, b):\n",
    "    \"\"\"\n",
    "    Esta función recibe dos números y devuelve su suma.\n",
    "    \"\"\"\n",
    "    return a + b\n",
    "```"
   ]
  }
 ],
 "metadata": {
  "kernelspec": {
   "display_name": "base",
   "language": "python",
   "name": "python3"
  },
  "language_info": {
   "codemirror_mode": {
    "name": "ipython",
    "version": 3
   },
   "file_extension": ".py",
   "mimetype": "text/x-python",
   "name": "python",
   "nbconvert_exporter": "python",
   "pygments_lexer": "ipython3",
   "version": "3.12.4"
  }
 },
 "nbformat": 4,
 "nbformat_minor": 5
}
