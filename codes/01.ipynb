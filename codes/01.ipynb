{
 "cells": [
  {
   "cell_type": "markdown",
   "id": "59a3a416",
   "metadata": {},
   "source": [
    "# **Fundamentos**"
   ]
  },
  {
   "cell_type": "markdown",
   "id": "d714d8db",
   "metadata": {},
   "source": [
    "#### **Historia**\n",
    "Python fue creado en 1991 por Guido Van Rossum siguiendo basada en una filosofía de simplicidad, además es de **Alto Nivel**; que significa que es cercano al **lenguaje humano** para ser precisos el **Inglés**.\n",
    "\n",
    "También es de **Escritura Dinámica**; que se refiere a que no necesitamos especificar el tipo de dato con el que trabajaremos. Sin embargo los datos pueden cambiar de tipo a través de nuestro código. Python es un lenguaje ordenado que se ejecuta de:\n",
    "- Arriba hacia abajo\n",
    "- Izquierda a derecha\n",
    "\n",
    "Es ampliamente usado en el mundo debido a su **Sintaxis sencilla**.\n",
    "\n",
    "Los archivos que trabajan con código de Python se nombran con la extensión **.py**"
   ]
  },
  {
   "cell_type": "markdown",
   "id": "f5e36cb5",
   "metadata": {},
   "source": [
    "#### **`print()`**"
   ]
  },
  {
   "cell_type": "markdown",
   "id": "73cd7042",
   "metadata": {},
   "source": [
    "Es una función que en Inglés significa **Imprimir** y nos arroja el valor de lo que ingresamos dentro de la función. Podemos colocar, texto, variables, números. Y nos arrojará su valor de manera gráfica en la consola."
   ]
  },
  {
   "cell_type": "code",
   "execution_count": 1,
   "id": "1363df90",
   "metadata": {},
   "outputs": [
    {
     "name": "stdout",
     "output_type": "stream",
     "text": [
      "Hola\n"
     ]
    }
   ],
   "source": [
    "print(\"Hola\")"
   ]
  },
  {
   "cell_type": "markdown",
   "id": "04078d29",
   "metadata": {},
   "source": [
    "### **Semántica**"
   ]
  },
  {
   "cell_type": "markdown",
   "id": "5b1c4c52",
   "metadata": {},
   "source": [
    "Se refiere al sentido que nosotros le damos al código. Es decir buscar consistencia y coherencia dentro de nuestro código."
   ]
  },
  {
   "cell_type": "markdown",
   "id": "decb7322",
   "metadata": {},
   "source": [
    "### **Sintaxis**"
   ]
  },
  {
   "cell_type": "markdown",
   "id": "234e5ddd",
   "metadata": {},
   "source": [
    "Se refiere a la manera en que nosotros vamos escribiendo y siguiendo buenas practicas de generación de código. Es decir debemos seguir ciertas reglas del propio lenguaje para que se ejecute adecuadamente."
   ]
  },
  {
   "cell_type": "markdown",
   "id": "69bbf835",
   "metadata": {},
   "source": [
    "### **Errores**"
   ]
  },
  {
   "cell_type": "markdown",
   "id": "c2589449",
   "metadata": {},
   "source": [
    "- **Syntactic Error (Error de Sintaxis)**: Cuando Python no entiendo nuestro código, por ejemplo; escribir `frint()` en lugar de `print()`.\n",
    "  \n",
    "- **Semantic Error (Error de semántica)**: Cuando Python ejecuta tu código pero la lógica no es correcta. Como decir `1 + 1 = 3`. Aunque nuestro código corra, la lógica no tiene sentido.\n",
    "\n",
    "- **Indentation Error (Error de Indentación)**: La indentación, en el contexto de la escritura y la programación, se refiere a la práctica de mover un bloque de texto hacia la derecha, generalmente con espacios o tabuladores, para separarlo del texto adyacente. Es decir ponemos un espacio donde no es necesario.\n",
    "\n",
    "- **Index Error (Error de indice)**: Se debe a que hacemos referencia a un dato que no existe o que sobrepasamos el número de indice permitido."
   ]
  },
  {
   "cell_type": "markdown",
   "id": "e4a0d5d9",
   "metadata": {},
   "source": [
    "Así que los errores se pueden clasificar si son correspondientes a Semántica o Sintaxis. Un punto bueno en Python es que cuando cometemos un error, el mensaje que nos despliega nos ayuda sobre de que tipo es."
   ]
  },
  {
   "cell_type": "markdown",
   "id": "d47ef5f3",
   "metadata": {},
   "source": [
    "### **Variables**"
   ]
  },
  {
   "cell_type": "markdown",
   "id": "f07f4444",
   "metadata": {},
   "source": [
    "Pensemos en las variables como espacios donde se guarda información. A esta variables le podemos dar ciertas características:\n",
    "- Nombre\n",
    "- Tipo \n",
    "- Valor\n",
    "\n",
    "Cuando se crean variables tenemos que tener en cuenta **Sintaxis**.\n",
    "- Colocamos el nombre de la variable seguido de el signo de asignación '=' y después el valor que queremos guardar.\n",
    "\n",
    "**Ejemplos:**\n",
    "```python\n",
    "Nombre = \"Camila\"\n",
    "Edad = 29\n",
    "Mensaje = \"Hola\"\n",
    "```\n",
    "\n",
    "**Errores de semántica en variables**\n",
    "```python\n",
    "Edad = \"Marcela\"\n",
    "Precio = \"treinta\"\n",
    "Nombre = 30\n",
    "```\n",
    "Aunque el código no tenga errores de sintaxis, no está bien implementado en cuanto a la lógica de programación y por ello tenemos errores de Semántica."
   ]
  },
  {
   "cell_type": "markdown",
   "id": "8befe1c7",
   "metadata": {},
   "source": [
    "#### **Buenas prácticas en nombrar variables**"
   ]
  },
  {
   "cell_type": "markdown",
   "id": "f4ec53d4",
   "metadata": {},
   "source": [
    "- No se permite empezar el nombre de una variable con un número.\n",
    "\n",
    "- No usar palabras reservadas `class, init, print` del lenguaje propio de Python.\n",
    "\n",
    "- Se puede usar ``'_'`` al inicio o en posiciones posteriores `_variable_= 20`\n"
   ]
  },
  {
   "cell_type": "markdown",
   "id": "cc26b0a6",
   "metadata": {},
   "source": [
    "#### **Tipos de variable**\n",
    "- **String [str]**: Es usado para representar texto, podemos guardar desde un carácter hasta una secuencia de texto.\n",
    "  \n",
    "  - *Formas de representación en Python:*\n",
    "    - **Comillas dobles ``\"\"``**\n",
    "    - **Comilla simple `''`**\n",
    "    - **Comillas triples (tres comillas simples) `'''men'''`**: Sensible a saltos de linea. Es decir se puede usar salto de linea sin que genere un error.\n",
    "  \n",
    "  - *Indexación*: Para acceder a cierto elemento dentro de una variable. Los valores comienza de 0 en adelante. \n",
    "    - Si quiero empezar del final hacia atrás, tengo que escoger indices negativos. Comenzando con -1.\n",
    "  \n",
    "  - *Concatenación (+)*: Cuando se **suman** o se **unen** 2 o más **strings**.\n",
    "  \n",
    "  -  *Repetición ( * )*: Cuando queremos replicar $n$ veces un **string**\n",
    "\n",
    "- "
   ]
  },
  {
   "cell_type": "markdown",
   "id": "3ee47b1f",
   "metadata": {},
   "source": [
    "> Para consultar el tipo de dato de una variable usamos la función `type()`       \n",
    "    \n",
    "> Para consultar la longitud de una variable usamos la función `len()`     "
   ]
  },
  {
   "cell_type": "markdown",
   "id": "184cd059",
   "metadata": {},
   "source": [
    "#### **Buenas practicas**\n",
    "- Tenemos que preservar un formato: Por ejemplo cuando elegimos una representación para **strings** en las variables. Lo tenemos que mantener a lo largo del código. ``[Comillas simples, dobles o triples]``"
   ]
  },
  {
   "cell_type": "markdown",
   "id": "89eda68f",
   "metadata": {},
   "source": [
    "### **Métodos**\n",
    "Son funciones que pertenecen a una clase o son propias de un tipo de dato. Además tienen una sintaxis diferente a las funciones tradicionales de Python. Por lo que no se llamarán *funciones* sino *métodos*\n",
    "\n",
    "**Ejemplo**\n",
    "```py\n",
    "mensaje = 'HOLA mundo'\n",
    "mensaje.lower()\n",
    "```\n",
    "\n",
    "Aquí `lower()` es el método "
   ]
  },
  {
   "cell_type": "markdown",
   "id": "eb687702",
   "metadata": {},
   "source": [
    "06.- Enteros Flota"
   ]
  }
 ],
 "metadata": {
  "kernelspec": {
   "display_name": "base",
   "language": "python",
   "name": "python3"
  },
  "language_info": {
   "codemirror_mode": {
    "name": "ipython",
    "version": 3
   },
   "file_extension": ".py",
   "mimetype": "text/x-python",
   "name": "python",
   "nbconvert_exporter": "python",
   "pygments_lexer": "ipython3",
   "version": "3.12.4"
  }
 },
 "nbformat": 4,
 "nbformat_minor": 5
}
